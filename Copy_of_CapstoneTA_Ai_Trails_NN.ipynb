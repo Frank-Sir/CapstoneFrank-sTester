{
  "nbformat": 4,
  "nbformat_minor": 0,
  "metadata": {
    "colab": {
      "name": "Copy of CapstoneTA_Ai_Trails_NN",
      "provenance": [],
      "authorship_tag": "ABX9TyPEBpambSwBfYivKvlmJMk6",
      "include_colab_link": true
    },
    "kernelspec": {
      "name": "python3",
      "display_name": "Python 3"
    },
    "language_info": {
      "name": "python"
    }
  },
  "cells": [
    {
      "cell_type": "markdown",
      "metadata": {
        "id": "view-in-github",
        "colab_type": "text"
      },
      "source": [
        "<a href=\"https://colab.research.google.com/github/Frank-Sir/CapstoneFrank-sTester/blob/main/Copy_of_CapstoneTA_Ai_Trails_NN.ipynb\" target=\"_parent\"><img src=\"https://colab.research.google.com/assets/colab-badge.svg\" alt=\"Open In Colab\"/></a>"
      ]
    },
    {
      "cell_type": "code",
      "metadata": {
        "colab": {
          "base_uri": "https://localhost:8080/"
        },
        "id": "HU7aBJR1e12k",
        "outputId": "d76d811b-573a-4c08-f580-f6a7ef518e58"
      },
      "source": [
        "import pandas as pd\n",
        "import matplotlib.pyplot as plt\n",
        "import numpy as np\n",
        "import os\n",
        "\n",
        "from sklearn import linear_model\n",
        "from sklearn.svm import SVC\n",
        "from sklearn import preprocessing\n",
        "from sklearn.preprocessing import StandardScaler\n",
        "from sklearn.model_selection import train_test_split\n",
        "from sklearn.feature_selection import SelectKBest, f_regression\n",
        "\n",
        "import tensorflow as tf\n",
        "from tensorflow import keras\n",
        "from tensorflow.keras.layers import Dense, Dropout, LSTM\n",
        "from tensorflow.keras.callbacks import EarlyStopping\n",
        "\n",
        "import IPython\n",
        "\n",
        "\n",
        "\n",
        "!pip install tensorflowjs \n",
        "import tensorflowjs as tfjs\n",
        "import seaborn as sea\n",
        "%matplotlib inline"
      ],
      "execution_count": null,
      "outputs": [
        {
          "output_type": "stream",
          "name": "stdout",
          "text": [
            "Requirement already satisfied: tensorflowjs in /usr/local/lib/python3.7/dist-packages (3.11.0)\n",
            "Requirement already satisfied: tensorflow-hub<0.13,>=0.7.0 in /usr/local/lib/python3.7/dist-packages (from tensorflowjs) (0.12.0)\n",
            "Requirement already satisfied: tensorflow<3,>=2.1.0 in /usr/local/lib/python3.7/dist-packages (from tensorflowjs) (2.7.0)\n",
            "Requirement already satisfied: six<2,>=1.12.0 in /usr/local/lib/python3.7/dist-packages (from tensorflowjs) (1.15.0)\n",
            "Requirement already satisfied: flatbuffers<3.0,>=1.12 in /usr/local/lib/python3.7/dist-packages (from tensorflow<3,>=2.1.0->tensorflowjs) (2.0)\n",
            "Requirement already satisfied: keras-preprocessing>=1.1.1 in /usr/local/lib/python3.7/dist-packages (from tensorflow<3,>=2.1.0->tensorflowjs) (1.1.2)\n",
            "Requirement already satisfied: absl-py>=0.4.0 in /usr/local/lib/python3.7/dist-packages (from tensorflow<3,>=2.1.0->tensorflowjs) (0.12.0)\n",
            "Requirement already satisfied: tensorflow-io-gcs-filesystem>=0.21.0 in /usr/local/lib/python3.7/dist-packages (from tensorflow<3,>=2.1.0->tensorflowjs) (0.22.0)\n",
            "Requirement already satisfied: astunparse>=1.6.0 in /usr/local/lib/python3.7/dist-packages (from tensorflow<3,>=2.1.0->tensorflowjs) (1.6.3)\n",
            "Requirement already satisfied: wrapt>=1.11.0 in /usr/local/lib/python3.7/dist-packages (from tensorflow<3,>=2.1.0->tensorflowjs) (1.13.3)\n",
            "Requirement already satisfied: h5py>=2.9.0 in /usr/local/lib/python3.7/dist-packages (from tensorflow<3,>=2.1.0->tensorflowjs) (3.1.0)\n",
            "Requirement already satisfied: tensorflow-estimator<2.8,~=2.7.0rc0 in /usr/local/lib/python3.7/dist-packages (from tensorflow<3,>=2.1.0->tensorflowjs) (2.7.0)\n",
            "Requirement already satisfied: grpcio<2.0,>=1.24.3 in /usr/local/lib/python3.7/dist-packages (from tensorflow<3,>=2.1.0->tensorflowjs) (1.42.0)\n",
            "Requirement already satisfied: typing-extensions>=3.6.6 in /usr/local/lib/python3.7/dist-packages (from tensorflow<3,>=2.1.0->tensorflowjs) (3.10.0.2)\n",
            "Requirement already satisfied: tensorboard~=2.6 in /usr/local/lib/python3.7/dist-packages (from tensorflow<3,>=2.1.0->tensorflowjs) (2.7.0)\n",
            "Requirement already satisfied: gast<0.5.0,>=0.2.1 in /usr/local/lib/python3.7/dist-packages (from tensorflow<3,>=2.1.0->tensorflowjs) (0.4.0)\n",
            "Requirement already satisfied: termcolor>=1.1.0 in /usr/local/lib/python3.7/dist-packages (from tensorflow<3,>=2.1.0->tensorflowjs) (1.1.0)\n",
            "Requirement already satisfied: libclang>=9.0.1 in /usr/local/lib/python3.7/dist-packages (from tensorflow<3,>=2.1.0->tensorflowjs) (12.0.0)\n",
            "Requirement already satisfied: wheel<1.0,>=0.32.0 in /usr/local/lib/python3.7/dist-packages (from tensorflow<3,>=2.1.0->tensorflowjs) (0.37.0)\n",
            "Requirement already satisfied: opt-einsum>=2.3.2 in /usr/local/lib/python3.7/dist-packages (from tensorflow<3,>=2.1.0->tensorflowjs) (3.3.0)\n",
            "Requirement already satisfied: keras<2.8,>=2.7.0rc0 in /usr/local/lib/python3.7/dist-packages (from tensorflow<3,>=2.1.0->tensorflowjs) (2.7.0)\n",
            "Requirement already satisfied: google-pasta>=0.1.1 in /usr/local/lib/python3.7/dist-packages (from tensorflow<3,>=2.1.0->tensorflowjs) (0.2.0)\n",
            "Requirement already satisfied: numpy>=1.14.5 in /usr/local/lib/python3.7/dist-packages (from tensorflow<3,>=2.1.0->tensorflowjs) (1.19.5)\n",
            "Requirement already satisfied: protobuf>=3.9.2 in /usr/local/lib/python3.7/dist-packages (from tensorflow<3,>=2.1.0->tensorflowjs) (3.17.3)\n",
            "Requirement already satisfied: cached-property in /usr/local/lib/python3.7/dist-packages (from h5py>=2.9.0->tensorflow<3,>=2.1.0->tensorflowjs) (1.5.2)\n",
            "Requirement already satisfied: markdown>=2.6.8 in /usr/local/lib/python3.7/dist-packages (from tensorboard~=2.6->tensorflow<3,>=2.1.0->tensorflowjs) (3.3.6)\n",
            "Requirement already satisfied: setuptools>=41.0.0 in /usr/local/lib/python3.7/dist-packages (from tensorboard~=2.6->tensorflow<3,>=2.1.0->tensorflowjs) (57.4.0)\n",
            "Requirement already satisfied: google-auth<3,>=1.6.3 in /usr/local/lib/python3.7/dist-packages (from tensorboard~=2.6->tensorflow<3,>=2.1.0->tensorflowjs) (1.35.0)\n",
            "Requirement already satisfied: google-auth-oauthlib<0.5,>=0.4.1 in /usr/local/lib/python3.7/dist-packages (from tensorboard~=2.6->tensorflow<3,>=2.1.0->tensorflowjs) (0.4.6)\n",
            "Requirement already satisfied: requests<3,>=2.21.0 in /usr/local/lib/python3.7/dist-packages (from tensorboard~=2.6->tensorflow<3,>=2.1.0->tensorflowjs) (2.23.0)\n",
            "Requirement already satisfied: tensorboard-plugin-wit>=1.6.0 in /usr/local/lib/python3.7/dist-packages (from tensorboard~=2.6->tensorflow<3,>=2.1.0->tensorflowjs) (1.8.0)\n",
            "Requirement already satisfied: tensorboard-data-server<0.7.0,>=0.6.0 in /usr/local/lib/python3.7/dist-packages (from tensorboard~=2.6->tensorflow<3,>=2.1.0->tensorflowjs) (0.6.1)\n",
            "Requirement already satisfied: werkzeug>=0.11.15 in /usr/local/lib/python3.7/dist-packages (from tensorboard~=2.6->tensorflow<3,>=2.1.0->tensorflowjs) (1.0.1)\n",
            "Requirement already satisfied: pyasn1-modules>=0.2.1 in /usr/local/lib/python3.7/dist-packages (from google-auth<3,>=1.6.3->tensorboard~=2.6->tensorflow<3,>=2.1.0->tensorflowjs) (0.2.8)\n",
            "Requirement already satisfied: cachetools<5.0,>=2.0.0 in /usr/local/lib/python3.7/dist-packages (from google-auth<3,>=1.6.3->tensorboard~=2.6->tensorflow<3,>=2.1.0->tensorflowjs) (4.2.4)\n",
            "Requirement already satisfied: rsa<5,>=3.1.4 in /usr/local/lib/python3.7/dist-packages (from google-auth<3,>=1.6.3->tensorboard~=2.6->tensorflow<3,>=2.1.0->tensorflowjs) (4.8)\n",
            "Requirement already satisfied: requests-oauthlib>=0.7.0 in /usr/local/lib/python3.7/dist-packages (from google-auth-oauthlib<0.5,>=0.4.1->tensorboard~=2.6->tensorflow<3,>=2.1.0->tensorflowjs) (1.3.0)\n",
            "Requirement already satisfied: importlib-metadata>=4.4 in /usr/local/lib/python3.7/dist-packages (from markdown>=2.6.8->tensorboard~=2.6->tensorflow<3,>=2.1.0->tensorflowjs) (4.8.2)\n",
            "Requirement already satisfied: zipp>=0.5 in /usr/local/lib/python3.7/dist-packages (from importlib-metadata>=4.4->markdown>=2.6.8->tensorboard~=2.6->tensorflow<3,>=2.1.0->tensorflowjs) (3.6.0)\n",
            "Requirement already satisfied: pyasn1<0.5.0,>=0.4.6 in /usr/local/lib/python3.7/dist-packages (from pyasn1-modules>=0.2.1->google-auth<3,>=1.6.3->tensorboard~=2.6->tensorflow<3,>=2.1.0->tensorflowjs) (0.4.8)\n",
            "Requirement already satisfied: certifi>=2017.4.17 in /usr/local/lib/python3.7/dist-packages (from requests<3,>=2.21.0->tensorboard~=2.6->tensorflow<3,>=2.1.0->tensorflowjs) (2021.10.8)\n",
            "Requirement already satisfied: chardet<4,>=3.0.2 in /usr/local/lib/python3.7/dist-packages (from requests<3,>=2.21.0->tensorboard~=2.6->tensorflow<3,>=2.1.0->tensorflowjs) (3.0.4)\n",
            "Requirement already satisfied: idna<3,>=2.5 in /usr/local/lib/python3.7/dist-packages (from requests<3,>=2.21.0->tensorboard~=2.6->tensorflow<3,>=2.1.0->tensorflowjs) (2.10)\n",
            "Requirement already satisfied: urllib3!=1.25.0,!=1.25.1,<1.26,>=1.21.1 in /usr/local/lib/python3.7/dist-packages (from requests<3,>=2.21.0->tensorboard~=2.6->tensorflow<3,>=2.1.0->tensorflowjs) (1.24.3)\n",
            "Requirement already satisfied: oauthlib>=3.0.0 in /usr/local/lib/python3.7/dist-packages (from requests-oauthlib>=0.7.0->google-auth-oauthlib<0.5,>=0.4.1->tensorboard~=2.6->tensorflow<3,>=2.1.0->tensorflowjs) (3.1.1)\n"
          ]
        }
      ]
    },
    {
      "cell_type": "code",
      "metadata": {
        "colab": {
          "base_uri": "https://localhost:8080/",
          "height": 300
        },
        "id": "7IUFe9b7gNHr",
        "outputId": "2d0c3657-13c9-4f8b-9d92-d1ade1be08c1"
      },
      "source": [
        "\n",
        "#Nerual Network time. \n",
        "#'Tony_Alder_SetsCombined_DROP_MAKEUP.csv','Tony_Alder_SetsCombined_OverUnder_80_DropMakeup.csv','Tony_Alder_SetsCombined_OverUnder_DropMakeup.csv'\n",
        "#files=['Tony_Alder_SetsCombined.csv','Tony_Alder_SetsCombined_DROP_MAKEUP.csv','Tony_Alder_SetsCombined_OverUnder.csv','Tony_Alder_SetsCombined_OverUnder_80.csv','Tony_Alder_SetsCombined_OverUnder_80_DropMakeup.csv','Tony_Alder_SetsCombined_OverUnder_DropMakeup.csv']\n",
        "#df=pd.read_csv('Tony_Alder_SetsCombined_OverUnder_DropMakeup.csv',na_values='!')\n",
        "df=pd.read_csv('Tony_Alder_SetsCombined_OverUnder_80.csv',na_values='!')\n",
        "#df=pd.read_csv('Tony_Alder_SetsCombined_DROP_MAKEUP.csv',na_values='!')\n",
        "#df=pd.read_csv('Tony_Alder_SetsCombined.csv',na_values='!')\n",
        "#dfs=[]\n",
        "#df=pd.read_csv('Tony_Alder_SetsCombined.csv',na_values='!')\n",
        "df.describe()"
      ],
      "execution_count": null,
      "outputs": [
        {
          "output_type": "execute_result",
          "data": {
            "text/html": [
              "<div>\n",
              "<style scoped>\n",
              "    .dataframe tbody tr th:only-of-type {\n",
              "        vertical-align: middle;\n",
              "    }\n",
              "\n",
              "    .dataframe tbody tr th {\n",
              "        vertical-align: top;\n",
              "    }\n",
              "\n",
              "    .dataframe thead th {\n",
              "        text-align: right;\n",
              "    }\n",
              "</style>\n",
              "<table border=\"1\" class=\"dataframe\">\n",
              "  <thead>\n",
              "    <tr style=\"text-align: right;\">\n",
              "      <th></th>\n",
              "      <th>pH</th>\n",
              "      <th>ORP</th>\n",
              "      <th>MakeupWater</th>\n",
              "      <th>FAC</th>\n",
              "      <th>TC</th>\n",
              "      <th>CC</th>\n",
              "      <th>Temp</th>\n",
              "      <th>TA</th>\n",
              "    </tr>\n",
              "  </thead>\n",
              "  <tbody>\n",
              "    <tr>\n",
              "      <th>count</th>\n",
              "      <td>87.000000</td>\n",
              "      <td>85.000000</td>\n",
              "      <td>55.000000</td>\n",
              "      <td>86.000000</td>\n",
              "      <td>78.000000</td>\n",
              "      <td>78.000000</td>\n",
              "      <td>84.000000</td>\n",
              "      <td>87.000000</td>\n",
              "    </tr>\n",
              "    <tr>\n",
              "      <th>mean</th>\n",
              "      <td>7.403793</td>\n",
              "      <td>822.976471</td>\n",
              "      <td>4.098364</td>\n",
              "      <td>2.545233</td>\n",
              "      <td>3.354231</td>\n",
              "      <td>0.818462</td>\n",
              "      <td>82.345238</td>\n",
              "      <td>0.022989</td>\n",
              "    </tr>\n",
              "    <tr>\n",
              "      <th>std</th>\n",
              "      <td>0.072308</td>\n",
              "      <td>12.064289</td>\n",
              "      <td>5.857434</td>\n",
              "      <td>0.780357</td>\n",
              "      <td>0.725592</td>\n",
              "      <td>0.337285</td>\n",
              "      <td>2.246786</td>\n",
              "      <td>0.150736</td>\n",
              "    </tr>\n",
              "    <tr>\n",
              "      <th>min</th>\n",
              "      <td>7.100000</td>\n",
              "      <td>800.000000</td>\n",
              "      <td>0.000000</td>\n",
              "      <td>1.180000</td>\n",
              "      <td>2.000000</td>\n",
              "      <td>0.380000</td>\n",
              "      <td>79.000000</td>\n",
              "      <td>0.000000</td>\n",
              "    </tr>\n",
              "    <tr>\n",
              "      <th>25%</th>\n",
              "      <td>7.400000</td>\n",
              "      <td>815.000000</td>\n",
              "      <td>0.590000</td>\n",
              "      <td>2.000000</td>\n",
              "      <td>2.860000</td>\n",
              "      <td>0.500000</td>\n",
              "      <td>81.000000</td>\n",
              "      <td>0.000000</td>\n",
              "    </tr>\n",
              "    <tr>\n",
              "      <th>50%</th>\n",
              "      <td>7.400000</td>\n",
              "      <td>825.000000</td>\n",
              "      <td>2.000000</td>\n",
              "      <td>2.500000</td>\n",
              "      <td>3.420000</td>\n",
              "      <td>0.800000</td>\n",
              "      <td>81.000000</td>\n",
              "      <td>0.000000</td>\n",
              "    </tr>\n",
              "    <tr>\n",
              "      <th>75%</th>\n",
              "      <td>7.400000</td>\n",
              "      <td>830.000000</td>\n",
              "      <td>5.448000</td>\n",
              "      <td>3.000000</td>\n",
              "      <td>3.800000</td>\n",
              "      <td>1.000000</td>\n",
              "      <td>85.000000</td>\n",
              "      <td>0.000000</td>\n",
              "    </tr>\n",
              "    <tr>\n",
              "      <th>max</th>\n",
              "      <td>7.600000</td>\n",
              "      <td>855.000000</td>\n",
              "      <td>31.851000</td>\n",
              "      <td>5.190000</td>\n",
              "      <td>5.840000</td>\n",
              "      <td>2.330000</td>\n",
              "      <td>86.000000</td>\n",
              "      <td>1.000000</td>\n",
              "    </tr>\n",
              "  </tbody>\n",
              "</table>\n",
              "</div>"
            ],
            "text/plain": [
              "              pH         ORP  MakeupWater  ...         CC       Temp         TA\n",
              "count  87.000000   85.000000    55.000000  ...  78.000000  84.000000  87.000000\n",
              "mean    7.403793  822.976471     4.098364  ...   0.818462  82.345238   0.022989\n",
              "std     0.072308   12.064289     5.857434  ...   0.337285   2.246786   0.150736\n",
              "min     7.100000  800.000000     0.000000  ...   0.380000  79.000000   0.000000\n",
              "25%     7.400000  815.000000     0.590000  ...   0.500000  81.000000   0.000000\n",
              "50%     7.400000  825.000000     2.000000  ...   0.800000  81.000000   0.000000\n",
              "75%     7.400000  830.000000     5.448000  ...   1.000000  85.000000   0.000000\n",
              "max     7.600000  855.000000    31.851000  ...   2.330000  86.000000   1.000000\n",
              "\n",
              "[8 rows x 8 columns]"
            ]
          },
          "metadata": {},
          "execution_count": 13
        }
      ]
    },
    {
      "cell_type": "code",
      "metadata": {
        "colab": {
          "base_uri": "https://localhost:8080/"
        },
        "id": "d0zuC7e2MstF",
        "outputId": "2af476af-3587-4891-c32e-0a796cade7bd"
      },
      "source": [
        "df=df.dropna()\n",
        "features=df.drop(['TA'],axis='columns')\n",
        "label=df['TA']\n",
        "#features=StandardScaler().fit_transform(features)\n",
        "label=pd.get_dummies(label, columns=[\"TA\"])\n",
        "print(features.shape,'  ',label.shape)"
      ],
      "execution_count": null,
      "outputs": [
        {
          "output_type": "stream",
          "name": "stdout",
          "text": [
            "(46, 7)    (46, 2)\n"
          ]
        }
      ]
    },
    {
      "cell_type": "code",
      "metadata": {
        "colab": {
          "base_uri": "https://localhost:8080/"
        },
        "id": "Bt6yVfZoNN4f",
        "outputId": "9f3df110-9246-4394-b0ea-3853185f7c9e"
      },
      "source": [
        "  X_train, X_test, y_train, y_test = train_test_split(features,label,test_size=0.1)\n",
        "  X_train=tf.convert_to_tensor(X_train)\n",
        "  X_test=tf.convert_to_tensor(X_test)\n",
        "  y_train=tf.convert_to_tensor(y_train)\n",
        "  y_test=tf.convert_to_tensor(y_test)\n",
        "  y_train.shape"
      ],
      "execution_count": null,
      "outputs": [
        {
          "output_type": "execute_result",
          "data": {
            "text/plain": [
              "TensorShape([41, 2])"
            ]
          },
          "metadata": {},
          "execution_count": 15
        }
      ]
    },
    {
      "cell_type": "code",
      "metadata": {
        "colab": {
          "base_uri": "https://localhost:8080/"
        },
        "id": "LozuMrERgRDc",
        "outputId": "5a02b887-8aea-4b94-c59e-bc018734bd51"
      },
      "source": [
        "results=[[],[]]\n",
        "Smodel = keras.Sequential()\n",
        "Smodel.add(Dense(10, activation=tf.nn.relu, input_shape=[len(X_train[0])]))\n",
        "Smodel.add(Dense(16,activation='relu'))\n",
        "Smodel.add(Dense(8,activation='relu'))\n",
        "Smodel.add(Dense(2,activation='softmax'))\n",
        "\n",
        "Smodel.compile(optimizer=\"adam\", loss=tf.keras.losses.BinaryCrossentropy(),metrics=['accuracy'])\n",
        "history=Smodel.fit(X_train, y_train, epochs=600, verbose=0, validation_split=0.2)\n",
        "\n",
        "temp = pd.DataFrame(history.history)\n",
        "temp[\"epoch\"] = history.epoch\n",
        "name='Accuracy over Epoch'\n",
        "results[0].append(name)\n",
        "results[1].append(temp)\n",
        "print(f\"results on  {name} 1: \\n  Val Accuracy: {round(float(temp['val_accuracy'].tail(1)),3)}\\n  Train Accuracy: {round(float(temp['accuracy'].tail(1)),3)}\")\n",
        "\n",
        "print(\"\\n\",np.round(Smodel.predict(X_test),0),'\\n',y_test,'\\n')\n",
        "#print(\"\\n\",Smodel.predict(X_train),'\\n',y_train)\n",
        "\n"
      ],
      "execution_count": null,
      "outputs": [
        {
          "output_type": "stream",
          "name": "stdout",
          "text": [
            "results on  Accuracy over Epoch 1: \n",
            "  Val Accuracy: 1.0\n",
            "  Train Accuracy: 0.938\n",
            "WARNING:tensorflow:5 out of the last 5 calls to <function Model.make_predict_function.<locals>.predict_function at 0x7f4eb661f320> triggered tf.function retracing. Tracing is expensive and the excessive number of tracings could be due to (1) creating @tf.function repeatedly in a loop, (2) passing tensors with different shapes, (3) passing Python objects instead of tensors. For (1), please define your @tf.function outside of the loop. For (2), @tf.function has experimental_relax_shapes=True option that relaxes argument shapes that can avoid unnecessary retracing. For (3), please refer to https://www.tensorflow.org/guide/function#controlling_retracing and https://www.tensorflow.org/api_docs/python/tf/function for  more details.\n",
            "\n",
            " [[1. 0.]\n",
            " [1. 0.]\n",
            " [1. 0.]\n",
            " [1. 0.]\n",
            " [1. 0.]] \n",
            " tf.Tensor(\n",
            "[[1 0]\n",
            " [1 0]\n",
            " [1 0]\n",
            " [1 0]\n",
            " [1 0]], shape=(5, 2), dtype=uint8) \n",
            "\n"
          ]
        }
      ]
    },
    {
      "cell_type": "code",
      "metadata": {
        "colab": {
          "base_uri": "https://localhost:8080/"
        },
        "id": "ysJc4NavcCJv",
        "outputId": "515cbc8e-cc5b-4b5a-ea08-bd1c44b0b650"
      },
      "source": [
        "print(X_test.shape)"
      ],
      "execution_count": null,
      "outputs": [
        {
          "output_type": "stream",
          "name": "stdout",
          "text": [
            "(5, 7)\n"
          ]
        }
      ]
    },
    {
      "cell_type": "code",
      "metadata": {
        "colab": {
          "base_uri": "https://localhost:8080/",
          "height": 279
        },
        "id": "pAI3GVavYllC",
        "outputId": "fd0d4789-195a-4007-a258-fdc1955adddb"
      },
      "source": [
        "plot_Acc(temp)"
      ],
      "execution_count": null,
      "outputs": [
        {
          "output_type": "display_data",
          "data": {
            "image/png": "[encoded data removed]",
            "text/plain": [
              "<Figure size 432x288 with 1 Axes>"
            ]
          },
          "metadata": {
            "needs_background": "light"
          }
        }
      ]
    },
    {
      "cell_type": "code",
      "metadata": {
        "colab": {
          "base_uri": "https://localhost:8080/"
        },
        "id": "HbOus56KqcEg",
        "outputId": "60dac384-74cf-4b4e-cd53-116f0362fdd2"
      },
      "source": [
        "Smodel.save(\"SoftMaxModel\")"
      ],
      "execution_count": null,
      "outputs": [
        {
          "output_type": "stream",
          "name": "stdout",
          "text": [
            "INFO:tensorflow:Assets written to: SoftMaxModel/assets\n"
          ]
        }
      ]
    },
    {
      "cell_type": "code",
      "metadata": {
        "colab": {
          "base_uri": "https://localhost:8080/",
          "height": 897
        },
        "id": "lauUkpLNqj9W",
        "outputId": "18ed8dec-cc34-408c-9f58-f077b1b55e2d"
      },
      "source": [
        "reconstructed_model = keras.models.load_model(\"SoftMaxModel\")\n",
        "alp=tf.Variable(X_test).numpy().tolist()\n",
        "print(reconstructed_model.predict(alp),'  ',alp)\n",
        "print(reconstructed_model.predict([7.4, 825.0, 1.0, 2.26, 3.32, 1.06, 85.0]))"
      ],
      "execution_count": null,
      "outputs": [
        {
          "output_type": "stream",
          "name": "stdout",
          "text": [
            "[[0.9985671  0.0014329 ]\n",
            " [0.998691   0.00130898]\n",
            " [0.99791163 0.00208832]\n",
            " [0.99827886 0.00172119]\n",
            " [0.99858475 0.00141528]]    [[7.4, 825.0, 1.0, 2.26, 3.32, 1.06, 85.0], [7.4, 820.0, 1.0, 1.81, 2.98, 1.17, 85.0], [7.3, 825.0, 0.027000000000000003, 3.0, 3.5, 0.5, 81.0], [7.4, 830.0, 2.0, 2.56, 4.02, 1.46, 85.0], [7.5, 825.0, 2.0, 1.96, 2.86, 0.9, 86.0]]\n",
            "WARNING:tensorflow:Model was constructed with shape (None, 7) for input KerasTensor(type_spec=TensorSpec(shape=(None, 7), dtype=tf.float32, name='dense_20_input'), name='dense_20_input', description=\"created by layer 'dense_20_input'\"), but it was called on an input with incompatible shape (None,).\n"
          ]
        },
        {
          "output_type": "error",
          "ename": "ValueError",
          "evalue": "ignored",
          "traceback": [
            "\u001b[0;31m---------------------------------------------------------------------------\u001b[0m",
            "\u001b[0;31mValueError\u001b[0m                                Traceback (most recent call last)",
            "\u001b[0;32m<ipython-input-28-822173b650ac>\u001b[0m in \u001b[0;36m<module>\u001b[0;34m()\u001b[0m\n\u001b[1;32m      2\u001b[0m \u001b[0malp\u001b[0m\u001b[0;34m=\u001b[0m\u001b[0mtf\u001b[0m\u001b[0;34m.\u001b[0m\u001b[0mVariable\u001b[0m\u001b[0;34m(\u001b[0m\u001b[0mX_test\u001b[0m\u001b[0;34m)\u001b[0m\u001b[0;34m.\u001b[0m\u001b[0mnumpy\u001b[0m\u001b[0;34m(\u001b[0m\u001b[0;34m)\u001b[0m\u001b[0;34m.\u001b[0m\u001b[0mtolist\u001b[0m\u001b[0;34m(\u001b[0m\u001b[0;34m)\u001b[0m\u001b[0;34m\u001b[0m\u001b[0;34m\u001b[0m\u001b[0m\n\u001b[1;32m      3\u001b[0m \u001b[0mprint\u001b[0m\u001b[0;34m(\u001b[0m\u001b[0mreconstructed_model\u001b[0m\u001b[0;34m.\u001b[0m\u001b[0mpredict\u001b[0m\u001b[0;34m(\u001b[0m\u001b[0malp\u001b[0m\u001b[0;34m)\u001b[0m\u001b[0;34m,\u001b[0m\u001b[0;34m'  '\u001b[0m\u001b[0;34m,\u001b[0m\u001b[0malp\u001b[0m\u001b[0;34m)\u001b[0m\u001b[0;34m\u001b[0m\u001b[0;34m\u001b[0m\u001b[0m\n\u001b[0;32m----> 4\u001b[0;31m \u001b[0mprint\u001b[0m\u001b[0;34m(\u001b[0m\u001b[0mreconstructed_model\u001b[0m\u001b[0;34m.\u001b[0m\u001b[0mpredict\u001b[0m\u001b[0;34m(\u001b[0m\u001b[0;34m[\u001b[0m\u001b[0;36m7.4\u001b[0m\u001b[0;34m,\u001b[0m \u001b[0;36m825.0\u001b[0m\u001b[0;34m,\u001b[0m \u001b[0;36m1.0\u001b[0m\u001b[0;34m,\u001b[0m \u001b[0;36m2.26\u001b[0m\u001b[0;34m,\u001b[0m \u001b[0;36m3.32\u001b[0m\u001b[0;34m,\u001b[0m \u001b[0;36m1.06\u001b[0m\u001b[0;34m,\u001b[0m \u001b[0;36m85.0\u001b[0m\u001b[0;34m]\u001b[0m\u001b[0;34m)\u001b[0m\u001b[0;34m)\u001b[0m\u001b[0;34m\u001b[0m\u001b[0;34m\u001b[0m\u001b[0m\n\u001b[0m",
            "\u001b[0;32m/usr/local/lib/python3.7/dist-packages/keras/utils/traceback_utils.py\u001b[0m in \u001b[0;36merror_handler\u001b[0;34m(*args, **kwargs)\u001b[0m\n\u001b[1;32m     65\u001b[0m     \u001b[0;32mexcept\u001b[0m \u001b[0mException\u001b[0m \u001b[0;32mas\u001b[0m \u001b[0me\u001b[0m\u001b[0;34m:\u001b[0m  \u001b[0;31m# pylint: disable=broad-except\u001b[0m\u001b[0;34m\u001b[0m\u001b[0;34m\u001b[0m\u001b[0m\n\u001b[1;32m     66\u001b[0m       \u001b[0mfiltered_tb\u001b[0m \u001b[0;34m=\u001b[0m \u001b[0m_process_traceback_frames\u001b[0m\u001b[0;34m(\u001b[0m\u001b[0me\u001b[0m\u001b[0;34m.\u001b[0m\u001b[0m__traceback__\u001b[0m\u001b[0;34m)\u001b[0m\u001b[0;34m\u001b[0m\u001b[0;34m\u001b[0m\u001b[0m\n\u001b[0;32m---> 67\u001b[0;31m       \u001b[0;32mraise\u001b[0m \u001b[0me\u001b[0m\u001b[0;34m.\u001b[0m\u001b[0mwith_traceback\u001b[0m\u001b[0;34m(\u001b[0m\u001b[0mfiltered_tb\u001b[0m\u001b[0;34m)\u001b[0m \u001b[0;32mfrom\u001b[0m \u001b[0;32mNone\u001b[0m\u001b[0;34m\u001b[0m\u001b[0;34m\u001b[0m\u001b[0m\n\u001b[0m\u001b[1;32m     68\u001b[0m     \u001b[0;32mfinally\u001b[0m\u001b[0;34m:\u001b[0m\u001b[0;34m\u001b[0m\u001b[0;34m\u001b[0m\u001b[0m\n\u001b[1;32m     69\u001b[0m       \u001b[0;32mdel\u001b[0m \u001b[0mfiltered_tb\u001b[0m\u001b[0;34m\u001b[0m\u001b[0;34m\u001b[0m\u001b[0m\n",
            "\u001b[0;32m/usr/local/lib/python3.7/dist-packages/tensorflow/python/framework/func_graph.py\u001b[0m in \u001b[0;36mautograph_handler\u001b[0;34m(*args, **kwargs)\u001b[0m\n\u001b[1;32m   1127\u001b[0m           \u001b[0;32mexcept\u001b[0m \u001b[0mException\u001b[0m \u001b[0;32mas\u001b[0m \u001b[0me\u001b[0m\u001b[0;34m:\u001b[0m  \u001b[0;31m# pylint:disable=broad-except\u001b[0m\u001b[0;34m\u001b[0m\u001b[0;34m\u001b[0m\u001b[0m\n\u001b[1;32m   1128\u001b[0m             \u001b[0;32mif\u001b[0m \u001b[0mhasattr\u001b[0m\u001b[0;34m(\u001b[0m\u001b[0me\u001b[0m\u001b[0;34m,\u001b[0m \u001b[0;34m\"ag_error_metadata\"\u001b[0m\u001b[0;34m)\u001b[0m\u001b[0;34m:\u001b[0m\u001b[0;34m\u001b[0m\u001b[0;34m\u001b[0m\u001b[0m\n\u001b[0;32m-> 1129\u001b[0;31m               \u001b[0;32mraise\u001b[0m \u001b[0me\u001b[0m\u001b[0;34m.\u001b[0m\u001b[0mag_error_metadata\u001b[0m\u001b[0;34m.\u001b[0m\u001b[0mto_exception\u001b[0m\u001b[0;34m(\u001b[0m\u001b[0me\u001b[0m\u001b[0;34m)\u001b[0m\u001b[0;34m\u001b[0m\u001b[0;34m\u001b[0m\u001b[0m\n\u001b[0m\u001b[1;32m   1130\u001b[0m             \u001b[0;32melse\u001b[0m\u001b[0;34m:\u001b[0m\u001b[0;34m\u001b[0m\u001b[0;34m\u001b[0m\u001b[0m\n\u001b[1;32m   1131\u001b[0m               \u001b[0;32mraise\u001b[0m\u001b[0;34m\u001b[0m\u001b[0;34m\u001b[0m\u001b[0m\n",
            "\u001b[0;31mValueError\u001b[0m: in user code:\n\n    File \"/usr/local/lib/python3.7/dist-packages/keras/engine/training.py\", line 1621, in predict_function  *\n        return step_function(self, iterator)\n    File \"/usr/local/lib/python3.7/dist-packages/keras/engine/training.py\", line 1611, in step_function  **\n        outputs = model.distribute_strategy.run(run_step, args=(data,))\n    File \"/usr/local/lib/python3.7/dist-packages/keras/engine/training.py\", line 1604, in run_step  **\n        outputs = model.predict_step(data)\n    File \"/usr/local/lib/python3.7/dist-packages/keras/engine/training.py\", line 1572, in predict_step\n        return self(x, training=False)\n    File \"/usr/local/lib/python3.7/dist-packages/keras/utils/traceback_utils.py\", line 67, in error_handler\n        raise e.with_traceback(filtered_tb) from None\n    File \"/usr/local/lib/python3.7/dist-packages/keras/engine/input_spec.py\", line 227, in assert_input_compatibility\n        raise ValueError(f'Input {input_index} of layer \"{layer_name}\" '\n\n    ValueError: Exception encountered when calling layer \"sequential_5\" (type Sequential).\n    \n    Input 0 of layer \"dense_20\" is incompatible with the layer: expected min_ndim=2, found ndim=1. Full shape received: (None,)\n    \n    Call arguments received:\n      • inputs=tf.Tensor(shape=(None,), dtype=float32)\n      • training=False\n      • mask=None\n"
          ]
        }
      ]
    },
    {
      "cell_type": "code",
      "metadata": {
        "colab": {
          "base_uri": "https://localhost:8080/"
        },
        "id": "pwXlLhdcXRds",
        "outputId": "d509eb43-0a85-4781-8f04-b5aefcfec03d"
      },
      "source": [
        "results=[[],[]]\n",
        "Sigmodel = keras.Sequential()\n",
        "Sigmodel.add(Dense(10, activation=tf.nn.relu, input_shape=[len(X_train[0])]))\n",
        "Sigmodel.add(Dense(16,activation='relu'))\n",
        "Sigmodel.add(Dense(8,activation='relu'))\n",
        "Sigmodel.add(Dense(2,activation='sigmoid'))\n",
        "\n",
        "Sigmodel.compile(optimizer=\"adam\", loss=tf.keras.losses.BinaryCrossentropy(),metrics=['accuracy'])\n",
        "history=Sigmodel.fit(X_train, y_train, epochs=300, verbose=0, validation_split=0.2)\n",
        "\n",
        "temp = pd.DataFrame(history.history)\n",
        "temp[\"epoch\"] = history.epoch\n",
        "name='Accuracy over Epoch'\n",
        "results[0].append(name)\n",
        "results[1].append(temp)\n",
        "print(f\"results on  {name} 1: \\n  Val Accuracy: {round(float(temp['val_accuracy'].tail(1)),3)}\\n  Train Accuracy: {round(float(temp['accuracy'].tail(1)),3)}\")\n",
        "\n",
        "print(\"\\n\",np.round(Sigmodel.predict(X_test),0),'\\n',y_test,'\\n')\n",
        "#print(\"\\n\",Sigmodel.predict(X_train),'\\n',y_train)\n",
        "\n"
      ],
      "execution_count": null,
      "outputs": [
        {
          "output_type": "stream",
          "name": "stdout",
          "text": [
            "results on  Accuracy over Epoch 1: \n",
            "  Val Accuracy: 0.889\n",
            "  Train Accuracy: 1.0\n",
            "\n",
            " [[1. 0.]\n",
            " [1. 0.]\n",
            " [1. 0.]\n",
            " [1. 0.]\n",
            " [1. 0.]] \n",
            " tf.Tensor(\n",
            "[[1 0]\n",
            " [1 0]\n",
            " [1 0]\n",
            " [1 0]\n",
            " [0 1]], shape=(5, 2), dtype=uint8) \n",
            "\n"
          ]
        }
      ]
    },
    {
      "cell_type": "code",
      "metadata": {
        "id": "t5MFoljAgNZ8",
        "colab": {
          "base_uri": "https://localhost:8080/",
          "height": 279
        },
        "outputId": "cee2a46e-a5be-4408-c425-1396c8dd03f3"
      },
      "source": [
        "def plot_Acc(x):#Plotting \n",
        "    plt.figure()\n",
        "    plt.xlabel('Epoch')\n",
        "    plt.ylabel('Accuracy')\n",
        "    plt.plot(x['epoch'], x['accuracy'], label='Train Error')\n",
        "    plt.plot(x['epoch'], x['val_accuracy'], label='Val Error')\n",
        "    plt.legend()\n",
        "plot_Acc(temp)"
      ],
      "execution_count": null,
      "outputs": [
        {
          "output_type": "display_data",
          "data": {
            "image/png": "[encoded data removed]",
            "text/plain": [
              "<Figure size 432x288 with 1 Axes>"
            ]
          },
          "metadata": {
            "needs_background": "light"
          }
        }
      ]
    },
    {
      "cell_type": "code",
      "metadata": {
        "id": "mVj_I446ofcr"
      },
      "source": [
        "tfjs.converters.save_keras_model(Sigmodel, 'NNSigmoidmodels')\n",
        "tfjs.converters.save_keras_model(Smodel, 'NNSoftMaxmodels')"
      ],
      "execution_count": null,
      "outputs": []
    },
    {
      "cell_type": "code",
      "metadata": {
        "colab": {
          "base_uri": "https://localhost:8080/"
        },
        "id": "DPvcVTm6BCmD",
        "outputId": "ccec8d4a-5644-4570-c953-51fbabce8cf0"
      },
      "source": [
        "yes=0\n",
        "no=0\n",
        "i=0\n",
        "j=0\n",
        "\n",
        "for i in range(len(models)-1):\n",
        "  temp=tf.Variable((models[i].predict(test[0][i]))).numpy().tolist()\n",
        "  print(temp)\n",
        "\n",
        "  '''\n",
        "  for j in range(len(temp)-1):\n",
        "    if temp[j]==test[1][j]:\n",
        "      yes+=1\n",
        "    else:\n",
        "      no+=1\n",
        "  print(f\"Model gave {yes} correct and {no} Wronge. \\n Test Accuracy= %{(yes/(yes+no))*100}\") \n",
        "    '''"
      ],
      "execution_count": null,
      "outputs": [
        {
          "output_type": "stream",
          "name": "stdout",
          "text": [
            "[[0.031107662245631218, 0.7123413681983948, 0.25655099749565125], [0.0024622275959700346, 0.46400025486946106, 0.5335374474525452], [0.025829816237092018, 0.20563583076000214, 0.7685343623161316], [8.787420483713504e-06, 0.9995926022529602, 0.00039861255208961666], [0.0048239403404295444, 0.9857670068740845, 0.009409111924469471]]\n",
            "[[0.0030105127952992916, 0.9097379446029663, 0.08439991623163223, 0.0028515346348285675], [0.03192288056015968, 0.04816041514277458, 0.8828129768371582, 0.03710377216339111], [0.028630392625927925, 0.8663131594657898, 0.08938925713300705, 0.015667326748371124], [0.06331684440374374, 0.7459315061569214, 0.15242893993854523, 0.038322605192661285], [0.03309543430805206, 0.2761090397834778, 0.6478567123413086, 0.042938802391290665], [0.11341641843318939, 0.524425208568573, 0.2947031855583191, 0.06745506823062897], [0.005285253282636404, 0.03819678723812103, 0.9467726945877075, 0.009745234623551369], [0.007376488763839006, 0.847821056842804, 0.1390870064496994, 0.0057153827510774136]]\n",
            "[[0.7971181273460388, 0.20288191735744476], [0.05379180610179901, 0.9462082386016846], [0.09740688651800156, 0.9025930762290955], [0.7288479804992676, 0.2711520493030548], [0.2699124217033386, 0.7300875186920166]]\n",
            "[[0.9991098046302795, 0.000890195369720459], [0.9979498982429504, 0.00205016415566206], [0.9948953986167908, 0.0051045529544353485], [0.9999998807907104, 1.372330444837644e-07], [0.9774282574653625, 0.02257169783115387]]\n",
            "[[0.1676720231771469, 0.8323279619216919], [0.2840026915073395, 0.7159972190856934], [0.14717523753643036, 0.8528248071670532], [0.5887745022773743, 0.41122546792030334], [0.9772332310676575, 0.022766783833503723], [0.4418775141239166, 0.5581225156784058], [0.43523213267326355, 0.5647678971290588], [0.6377116441726685, 0.3622884154319763]]\n"
          ]
        }
      ]
    },
    {
      "cell_type": "code",
      "metadata": {
        "colab": {
          "base_uri": "https://localhost:8080/"
        },
        "id": "bur23lm3aKQG",
        "outputId": "f0d778d7-7c5d-461e-b6ac-7dc8cfd31258"
      },
      "source": [
        "!pip install h5py\n",
        "from keras.models import model_from_json\n",
        "import os"
      ],
      "execution_count": null,
      "outputs": [
        {
          "output_type": "stream",
          "name": "stdout",
          "text": [
            "Requirement already satisfied: h5py in /usr/local/lib/python3.7/dist-packages (3.1.0)\n",
            "Requirement already satisfied: numpy>=1.14.5 in /usr/local/lib/python3.7/dist-packages (from h5py) (1.19.5)\n",
            "Requirement already satisfied: cached-property in /usr/local/lib/python3.7/dist-packages (from h5py) (1.5.2)\n"
          ]
        }
      ]
    },
    {
      "cell_type": "code",
      "metadata": {
        "colab": {
          "base_uri": "https://localhost:8080/"
        },
        "id": "r0ufmOCIZGF2",
        "outputId": "5c05135e-1232-4a7f-ca49-183b6d0b8c6f"
      },
      "source": [
        "model_json = Smodel.to_json()\n",
        "with open(\"Soft2dmodel.json\", \"w\") as json_file:\n",
        "  json_file.write(model_json)\n",
        "Smodel.save_weights(\"Soft2model.h5\")\n",
        "print(\"Saved model to disk\")"
      ],
      "execution_count": null,
      "outputs": [
        {
          "output_type": "stream",
          "name": "stdout",
          "text": [
            "Saved model to disk\n"
          ]
        }
      ]
    }
  ]
}